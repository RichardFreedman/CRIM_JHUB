import intervals
from intervals import * 
from intervals import main_objs
import intervals.visualizations as viz
import pandas as pd
import re
import altair as alt
import matplotlib.pyplot as plt
import seaborn as sns
from ipywidgets import interact
from pandas.io.json import json_normalize
from pyvis.network import Network
from IPython.display import display
import requests
import os

MYDIR = ("saved_csv")
CHECK_FOLDER = os.path.isdir(MYDIR)

# If folder doesn't exist, then create it.
if not CHECK_FOLDER:
    os.makedirs(MYDIR)
    print("created folder : ", MYDIR)
else:
    print(MYDIR, "folder already exists.")
    
MUSDIR = ("Music_Files")
CHECK_FOLDER = os.path.isdir(MUSDIR)

# If folder doesn't exist, then create it.
if not CHECK_FOLDER:
    os.makedirs(MUSDIR)
    print("created folder : ", MUSDIR)

else:
    print(MUSDIR, "folder already exists.")
# getting all ngrams and stacking them for easier filtering
# Select a prefix:
# prefix = 'Music_Files/'
prefix = 'https://crimproject.org/mei/' 


# Add your filename here
mei_file = 'CRIM_Model_0008.mei'

# These join the strings and import the piece
url = prefix + mei_file
piece = importScore(url)

print(piece.metadata)

# get the P-types, ngrams as series, and the notes with detail index
p_types = piece.presentationTypes()
# get the ngrams as a series
notes = piece.notes()
notes_det = piece.detailIndex(notes, offset=True)
mel = piece.melodic(end=False)
ngrams = piece.ngrams(df=mel, n=4, offsets='both')
ngrams_series = ngrams.stack()

# notes
notes_det = notes_det.reset_index(level=['Measure', 'Beat'])
notes_det = notes_det[['Measure', 'Beat']]
notes_det.index.names = ['Offset']


# the function
def ngramfilter(row, ngrams_series, notes_det):
    offsets = row["Offsets"]
    voices = row["Voices"]
    pairs = list(zip(offsets, voices))

    ng_list = []
    for pair in pairs:
        offset = pair[0]
        voice = pair[1]
        ngram_coordinates = ngrams_series[(ngrams_series.index.get_level_values(0) == offset) & (ngrams_series.index.get_level_values(2) == voice)]
        ngram_coordinates = ngram_coordinates.reset_index()
        ngram_coordinates = ngram_coordinates.rename(columns={'level_2' : 'Voice'})
        ng_list.append(ngram_coordinates)
    ng_df = pd.concat(ng_list)
    ng_df_first = ng_df.set_index('First')
    ng_df_last = ng_df.set_index('Last')

    merged_df = ng_df_first.merge(notes_det, left_index=True, right_index=True, how='left')
    merged_df.rename(columns={"Measure" : "FirstMeasure", "Beat" : "FirstBeat"}, inplace=True)
    merged_df.reset_index(inplace=True)
    merged_df2 = ng_df_last.merge(notes_det, left_index=True, right_index=True, how='left')
    merged_df2.rename(columns={"Measure" : "LastMeasure", "Beat" : "LastBeat"}, inplace=True)
    merged_df2.reset_index(inplace=True)
    cols_to_use = merged_df2.columns.difference(merged_df.columns)
    final = pd.merge(merged_df, merged_df2[cols_to_use], left_index=True, right_index=True, how='outer')

    

    return final

p_types['result'] = p_types.apply(lambda row: ngramfilter(row, ngrams_series, notes_det), axis=1)

# sample result
p_types.iloc[0]['result']
    